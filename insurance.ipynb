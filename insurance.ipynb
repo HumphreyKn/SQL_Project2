{
 "cells": [
  {
   "cell_type": "code",
   "execution_count": 1,
   "metadata": {},
   "outputs": [],
   "source": [
    "#LOading sql extension\n",
    "%load_ext sql\n",
    "# Connecting to the database\n",
    "%sql sqlite:///insurance.db"
   ]
  },
  {
   "cell_type": "code",
   "execution_count": 2,
   "metadata": {},
   "outputs": [
    {
     "name": "stdout",
     "output_type": "stream",
     "text": [
      " * sqlite:///insurance.db\n",
      "Done.\n"
     ]
    },
    {
     "data": {
      "text/html": [
       "<table>\n",
       "    <tr>\n",
       "        <th>age</th>\n",
       "        <th>sex</th>\n",
       "        <th>bmi</th>\n",
       "        <th>children</th>\n",
       "        <th>smoker</th>\n",
       "        <th>region</th>\n",
       "        <th>charges</th>\n",
       "    </tr>\n",
       "    <tr>\n",
       "        <td>19</td>\n",
       "        <td>female</td>\n",
       "        <td>27.9</td>\n",
       "        <td>0</td>\n",
       "        <td>yes</td>\n",
       "        <td>southwest</td>\n",
       "        <td>16884.924</td>\n",
       "    </tr>\n",
       "    <tr>\n",
       "        <td>18</td>\n",
       "        <td>male</td>\n",
       "        <td>33.77</td>\n",
       "        <td>1</td>\n",
       "        <td>no</td>\n",
       "        <td>southeast</td>\n",
       "        <td>1725.5523</td>\n",
       "    </tr>\n",
       "    <tr>\n",
       "        <td>28</td>\n",
       "        <td>male</td>\n",
       "        <td>33</td>\n",
       "        <td>3</td>\n",
       "        <td>no</td>\n",
       "        <td>southeast</td>\n",
       "        <td>4449.462</td>\n",
       "    </tr>\n",
       "    <tr>\n",
       "        <td>33</td>\n",
       "        <td>male</td>\n",
       "        <td>22.705</td>\n",
       "        <td>0</td>\n",
       "        <td>no</td>\n",
       "        <td>northwest</td>\n",
       "        <td>21984.47061</td>\n",
       "    </tr>\n",
       "    <tr>\n",
       "        <td>32</td>\n",
       "        <td>male</td>\n",
       "        <td>28.88</td>\n",
       "        <td>0</td>\n",
       "        <td>no</td>\n",
       "        <td>northwest</td>\n",
       "        <td>3866.8552</td>\n",
       "    </tr>\n",
       "</table>"
      ],
      "text/plain": [
       "[(19, 'female', 27.9, 0, 'yes', 'southwest', 16884.924),\n",
       " (18, 'male', 33.77, 1, 'no', 'southeast', 1725.5523),\n",
       " (28, 'male', 33, 3, 'no', 'southeast', 4449.462),\n",
       " (33, 'male', 22.705, 0, 'no', 'northwest', 21984.47061),\n",
       " (32, 'male', 28.88, 0, 'no', 'northwest', 3866.8552)]"
      ]
     },
     "execution_count": 2,
     "metadata": {},
     "output_type": "execute_result"
    }
   ],
   "source": [
    "#data preview\n",
    "%sql SELECT * FROM insurance LIMIT 5"
   ]
  },
  {
   "attachments": {},
   "cell_type": "markdown",
   "metadata": {},
   "source": [
    "1. How many females are smokers?\n"
   ]
  },
  {
   "cell_type": "code",
   "execution_count": 3,
   "metadata": {},
   "outputs": [
    {
     "name": "stdout",
     "output_type": "stream",
     "text": [
      " * sqlite:///insurance.db\n",
      "Done.\n"
     ]
    },
    {
     "data": {
      "text/html": [
       "<table>\n",
       "    <tr>\n",
       "        <th>COUNT(*)</th>\n",
       "    </tr>\n",
       "    <tr>\n",
       "        <td>115</td>\n",
       "    </tr>\n",
       "</table>"
      ],
      "text/plain": [
       "[(115,)]"
      ]
     },
     "execution_count": 3,
     "metadata": {},
     "output_type": "execute_result"
    }
   ],
   "source": [
    "%%sql\n",
    "SELECT COUNT(*)\n",
    "FROM  insurance\n",
    "WHERE sex='female' AND smoker= 'yes'"
   ]
  },
  {
   "attachments": {},
   "cell_type": "markdown",
   "metadata": {},
   "source": [
    "2. How many males are smokers?"
   ]
  },
  {
   "cell_type": "code",
   "execution_count": 5,
   "metadata": {
    "vscode": {
     "languageId": "sql"
    }
   },
   "outputs": [
    {
     "name": "stdout",
     "output_type": "stream",
     "text": [
      " * sqlite:///insurance.db\n",
      "Done.\n"
     ]
    },
    {
     "data": {
      "text/html": [
       "<table>\n",
       "    <tr>\n",
       "        <th>COUNT(*)</th>\n",
       "    </tr>\n",
       "    <tr>\n",
       "        <td>159</td>\n",
       "    </tr>\n",
       "</table>"
      ],
      "text/plain": [
       "[(159,)]"
      ]
     },
     "execution_count": 5,
     "metadata": {},
     "output_type": "execute_result"
    }
   ],
   "source": [
    "%%sql\n",
    "SELECT COUNT(*)\n",
    "FROM  insurance\n",
    "WHERE sex='male' AND smoker= 'yes'"
   ]
  },
  {
   "attachments": {},
   "cell_type": "markdown",
   "metadata": {},
   "source": [
    "3. Show the distribution of smokers and non smokers in each region"
   ]
  },
  {
   "cell_type": "code",
   "execution_count": 6,
   "metadata": {
    "vscode": {
     "languageId": "sql"
    }
   },
   "outputs": [
    {
     "name": "stdout",
     "output_type": "stream",
     "text": [
      " * sqlite:///insurance.db\n",
      "Done.\n"
     ]
    },
    {
     "data": {
      "text/html": [
       "<table>\n",
       "    <tr>\n",
       "        <th>region</th>\n",
       "        <th>smoker</th>\n",
       "        <th>count</th>\n",
       "    </tr>\n",
       "    <tr>\n",
       "        <td>northeast</td>\n",
       "        <td>no</td>\n",
       "        <td>257</td>\n",
       "    </tr>\n",
       "    <tr>\n",
       "        <td>northeast</td>\n",
       "        <td>yes</td>\n",
       "        <td>67</td>\n",
       "    </tr>\n",
       "    <tr>\n",
       "        <td>northwest</td>\n",
       "        <td>no</td>\n",
       "        <td>267</td>\n",
       "    </tr>\n",
       "    <tr>\n",
       "        <td>northwest</td>\n",
       "        <td>yes</td>\n",
       "        <td>58</td>\n",
       "    </tr>\n",
       "    <tr>\n",
       "        <td>southeast</td>\n",
       "        <td>no</td>\n",
       "        <td>273</td>\n",
       "    </tr>\n",
       "    <tr>\n",
       "        <td>southeast</td>\n",
       "        <td>yes</td>\n",
       "        <td>91</td>\n",
       "    </tr>\n",
       "    <tr>\n",
       "        <td>southwest</td>\n",
       "        <td>no</td>\n",
       "        <td>267</td>\n",
       "    </tr>\n",
       "    <tr>\n",
       "        <td>southwest</td>\n",
       "        <td>yes</td>\n",
       "        <td>58</td>\n",
       "    </tr>\n",
       "</table>"
      ],
      "text/plain": [
       "[('northeast', 'no', 257),\n",
       " ('northeast', 'yes', 67),\n",
       " ('northwest', 'no', 267),\n",
       " ('northwest', 'yes', 58),\n",
       " ('southeast', 'no', 273),\n",
       " ('southeast', 'yes', 91),\n",
       " ('southwest', 'no', 267),\n",
       " ('southwest', 'yes', 58)]"
      ]
     },
     "execution_count": 6,
     "metadata": {},
     "output_type": "execute_result"
    }
   ],
   "source": [
    "%%sql\n",
    "SELECT region, smoker, COUNT(*) count\n",
    "FROM insurance\n",
    "GROUP BY region, smoker"
   ]
  },
  {
   "attachments": {},
   "cell_type": "markdown",
   "metadata": {},
   "source": [
    "4. Is there any region where its average charge is below THE overall average charge?"
   ]
  },
  {
   "cell_type": "code",
   "execution_count": 11,
   "metadata": {
    "vscode": {
     "languageId": "sql"
    }
   },
   "outputs": [
    {
     "name": "stdout",
     "output_type": "stream",
     "text": [
      " * sqlite:///insurance.db\n",
      "Done.\n"
     ]
    },
    {
     "data": {
      "text/html": [
       "<table>\n",
       "    <tr>\n",
       "        <th>region</th>\n",
       "        <th>avg_charge</th>\n",
       "    </tr>\n",
       "    <tr>\n",
       "        <td>northeast</td>\n",
       "        <td>13406.3845163858</td>\n",
       "    </tr>\n",
       "    <tr>\n",
       "        <td>northwest</td>\n",
       "        <td>12417.575373969228</td>\n",
       "    </tr>\n",
       "    <tr>\n",
       "        <td>southeast</td>\n",
       "        <td>14735.411437609895</td>\n",
       "    </tr>\n",
       "    <tr>\n",
       "        <td>southwest</td>\n",
       "        <td>12346.93737729231</td>\n",
       "    </tr>\n",
       "</table>"
      ],
      "text/plain": [
       "[('northeast', 13406.3845163858),\n",
       " ('northwest', 12417.575373969228),\n",
       " ('southeast', 14735.411437609895),\n",
       " ('southwest', 12346.93737729231)]"
      ]
     },
     "execution_count": 11,
     "metadata": {},
     "output_type": "execute_result"
    }
   ],
   "source": [
    "%%sql\n",
    "SELECT region, AVG(charges) avg_charge\n",
    "FROM insurance\n",
    "GROUP BY region\n",
    "--having AVG(charges) < overall_avg_charge\n"
   ]
  },
  {
   "cell_type": "code",
   "execution_count": 8,
   "metadata": {
    "vscode": {
     "languageId": "sql"
    }
   },
   "outputs": [
    {
     "name": "stdout",
     "output_type": "stream",
     "text": [
      " * sqlite:///insurance.db\n",
      "Done.\n"
     ]
    },
    {
     "data": {
      "text/html": [
       "<table>\n",
       "    <tr>\n",
       "        <th>region</th>\n",
       "        <th>avg_charge</th>\n",
       "    </tr>\n",
       "    <tr>\n",
       "        <td>northwest</td>\n",
       "        <td>12417.575373969228</td>\n",
       "    </tr>\n",
       "    <tr>\n",
       "        <td>southwest</td>\n",
       "        <td>12346.93737729231</td>\n",
       "    </tr>\n",
       "</table>"
      ],
      "text/plain": [
       "[('northwest', 12417.575373969228), ('southwest', 12346.93737729231)]"
      ]
     },
     "execution_count": 8,
     "metadata": {},
     "output_type": "execute_result"
    }
   ],
   "source": [
    "%%sql\n",
    "WITH overall AS(\n",
    "    SELECT AVG(charges) overall_avg_charge\n",
    "    FROM insurance\n",
    ")\n",
    "SELECT region, AVG(charges) avg_charge\n",
    "FROM insurance, overall\n",
    "GROUP BY region\n",
    "having AVG(charges) < overall_avg_charge"
   ]
  },
  {
   "cell_type": "code",
   "execution_count": 9,
   "metadata": {
    "vscode": {
     "languageId": "sql"
    }
   },
   "outputs": [
    {
     "name": "stdout",
     "output_type": "stream",
     "text": [
      " * sqlite:///insurance.db\n",
      "(sqlite3.OperationalError) no such column: overall_avg_charge\n",
      "[SQL: SELECT region, AVG(charges) avg_charge\n",
      "FROM insurance\n",
      "WHERE avg_charge < overall_avg_charge\n",
      "GROUP BY region]\n",
      "(Background on this error at: https://sqlalche.me/e/14/e3q8)\n"
     ]
    }
   ],
   "source": [
    "%%sql\n",
    "SELECT region, AVG(charges) avg_charge\n",
    "FROM insurance\n",
    "WHERE avg_charge < overall_avg_charge\n",
    "GROUP BY region"
   ]
  },
  {
   "cell_type": "code",
   "execution_count": null,
   "metadata": {
    "vscode": {
     "languageId": "sql"
    }
   },
   "outputs": [],
   "source": []
  }
 ],
 "metadata": {
  "kernelspec": {
   "display_name": "base",
   "language": "python",
   "name": "python3"
  },
  "language_info": {
   "codemirror_mode": {
    "name": "ipython",
    "version": 3
   },
   "file_extension": ".py",
   "mimetype": "text/x-python",
   "name": "python",
   "nbconvert_exporter": "python",
   "pygments_lexer": "ipython3",
   "version": "3.9.13"
  },
  "orig_nbformat": 4,
  "vscode": {
   "interpreter": {
    "hash": "2a3f8dcd7ca25019d517e804fa1e5b4af9e1214f24e2811112c843b1e4edaaec"
   }
  }
 },
 "nbformat": 4,
 "nbformat_minor": 2
}
