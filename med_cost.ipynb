{
 "cells": [
  {
   "attachments": {},
   "cell_type": "markdown",
   "metadata": {},
   "source": [
    "# Personal Medical Insurance Analysis\n",
    "\n",
    "### Attribute Information\n",
    "age: age of primary beneficiary\n",
    "\n",
    "sex: insurance contractor gender, female, male\n",
    "\n",
    "bmi: Body mass index, providing an understanding of body, weights that are relatively high or low relative to height,\n",
    "objective index of body weight (kg / m ^ 2) using the ratio of height to weight, ideally 18.5 to 24.9\n",
    "\n",
    "children: Number of children covered by health insurance / Number of dependents\n",
    "\n",
    "smoker: Smoking\n",
    "\n",
    "region: the beneficiary's residential area in the US, northeast, southeast, southwest, northwest.\n",
    "\n",
    "charges: Individual medical costs billed by health insurance"
   ]
  },
  {
   "cell_type": "code",
   "execution_count": 3,
   "metadata": {},
   "outputs": [
    {
     "ename": "ModuleNotFoundError",
     "evalue": "No module named 'sql'",
     "output_type": "error",
     "traceback": [
      "\u001b[0;31m---------------------------------------------------------------------------\u001b[0m",
      "\u001b[0;31mModuleNotFoundError\u001b[0m                       Traceback (most recent call last)",
      "Cell \u001b[0;32mIn[3], line 1\u001b[0m\n\u001b[0;32m----> 1\u001b[0m get_ipython()\u001b[39m.\u001b[39;49mrun_line_magic(\u001b[39m'\u001b[39;49m\u001b[39mreload_ext\u001b[39;49m\u001b[39m'\u001b[39;49m, \u001b[39m'\u001b[39;49m\u001b[39msql\u001b[39;49m\u001b[39m'\u001b[39;49m)\n\u001b[1;32m      2\u001b[0m get_ipython()\u001b[39m.\u001b[39mrun_line_magic(\u001b[39m'\u001b[39m\u001b[39msql\u001b[39m\u001b[39m'\u001b[39m, \u001b[39m'\u001b[39m\u001b[39msqlite:///insurance.db\u001b[39m\u001b[39m'\u001b[39m)\n",
      "File \u001b[0;32m~/anaconda3/envs/tf-gpu/lib/python3.9/site-packages/IPython/core/interactiveshell.py:2369\u001b[0m, in \u001b[0;36mInteractiveShell.run_line_magic\u001b[0;34m(self, magic_name, line, _stack_depth)\u001b[0m\n\u001b[1;32m   2367\u001b[0m     kwargs[\u001b[39m'\u001b[39m\u001b[39mlocal_ns\u001b[39m\u001b[39m'\u001b[39m] \u001b[39m=\u001b[39m \u001b[39mself\u001b[39m\u001b[39m.\u001b[39mget_local_scope(stack_depth)\n\u001b[1;32m   2368\u001b[0m \u001b[39mwith\u001b[39;00m \u001b[39mself\u001b[39m\u001b[39m.\u001b[39mbuiltin_trap:\n\u001b[0;32m-> 2369\u001b[0m     result \u001b[39m=\u001b[39m fn(\u001b[39m*\u001b[39;49margs, \u001b[39m*\u001b[39;49m\u001b[39m*\u001b[39;49mkwargs)\n\u001b[1;32m   2370\u001b[0m \u001b[39mreturn\u001b[39;00m result\n",
      "File \u001b[0;32m~/anaconda3/envs/tf-gpu/lib/python3.9/site-packages/IPython/core/magics/extension.py:63\u001b[0m, in \u001b[0;36mExtensionMagics.reload_ext\u001b[0;34m(self, module_str)\u001b[0m\n\u001b[1;32m     61\u001b[0m \u001b[39mif\u001b[39;00m \u001b[39mnot\u001b[39;00m module_str:\n\u001b[1;32m     62\u001b[0m     \u001b[39mraise\u001b[39;00m UsageError(\u001b[39m'\u001b[39m\u001b[39mMissing module name.\u001b[39m\u001b[39m'\u001b[39m)\n\u001b[0;32m---> 63\u001b[0m \u001b[39mself\u001b[39;49m\u001b[39m.\u001b[39;49mshell\u001b[39m.\u001b[39;49mextension_manager\u001b[39m.\u001b[39;49mreload_extension(module_str)\n",
      "File \u001b[0;32m~/anaconda3/envs/tf-gpu/lib/python3.9/site-packages/IPython/core/extensions.py:141\u001b[0m, in \u001b[0;36mExtensionManager.reload_extension\u001b[0;34m(self, module_str)\u001b[0m\n\u001b[1;32m    139\u001b[0m         \u001b[39mself\u001b[39m\u001b[39m.\u001b[39mloaded\u001b[39m.\u001b[39madd(module_str)\n\u001b[1;32m    140\u001b[0m \u001b[39melse\u001b[39;00m:\n\u001b[0;32m--> 141\u001b[0m     \u001b[39mself\u001b[39;49m\u001b[39m.\u001b[39;49mload_extension(module_str)\n",
      "File \u001b[0;32m~/anaconda3/envs/tf-gpu/lib/python3.9/site-packages/IPython/core/extensions.py:76\u001b[0m, in \u001b[0;36mExtensionManager.load_extension\u001b[0;34m(self, module_str)\u001b[0m\n\u001b[1;32m     69\u001b[0m \u001b[39m\"\"\"Load an IPython extension by its module name.\u001b[39;00m\n\u001b[1;32m     70\u001b[0m \n\u001b[1;32m     71\u001b[0m \u001b[39mReturns the string \"already loaded\" if the extension is already loaded,\u001b[39;00m\n\u001b[1;32m     72\u001b[0m \u001b[39m\"no load function\" if the module doesn't have a load_ipython_extension\u001b[39;00m\n\u001b[1;32m     73\u001b[0m \u001b[39mfunction, or None if it succeeded.\u001b[39;00m\n\u001b[1;32m     74\u001b[0m \u001b[39m\"\"\"\u001b[39;00m\n\u001b[1;32m     75\u001b[0m \u001b[39mtry\u001b[39;00m:\n\u001b[0;32m---> 76\u001b[0m     \u001b[39mreturn\u001b[39;00m \u001b[39mself\u001b[39;49m\u001b[39m.\u001b[39;49m_load_extension(module_str)\n\u001b[1;32m     77\u001b[0m \u001b[39mexcept\u001b[39;00m \u001b[39mModuleNotFoundError\u001b[39;00m:\n\u001b[1;32m     78\u001b[0m     \u001b[39mif\u001b[39;00m module_str \u001b[39min\u001b[39;00m BUILTINS_EXTS:\n",
      "File \u001b[0;32m~/anaconda3/envs/tf-gpu/lib/python3.9/site-packages/IPython/core/extensions.py:91\u001b[0m, in \u001b[0;36mExtensionManager._load_extension\u001b[0;34m(self, module_str)\u001b[0m\n\u001b[1;32m     89\u001b[0m \u001b[39mwith\u001b[39;00m \u001b[39mself\u001b[39m\u001b[39m.\u001b[39mshell\u001b[39m.\u001b[39mbuiltin_trap:\n\u001b[1;32m     90\u001b[0m     \u001b[39mif\u001b[39;00m module_str \u001b[39mnot\u001b[39;00m \u001b[39min\u001b[39;00m sys\u001b[39m.\u001b[39mmodules:\n\u001b[0;32m---> 91\u001b[0m         mod \u001b[39m=\u001b[39m import_module(module_str)\n\u001b[1;32m     92\u001b[0m     mod \u001b[39m=\u001b[39m sys\u001b[39m.\u001b[39mmodules[module_str]\n\u001b[1;32m     93\u001b[0m     \u001b[39mif\u001b[39;00m \u001b[39mself\u001b[39m\u001b[39m.\u001b[39m_call_load_ipython_extension(mod):\n",
      "File \u001b[0;32m~/anaconda3/envs/tf-gpu/lib/python3.9/importlib/__init__.py:127\u001b[0m, in \u001b[0;36mimport_module\u001b[0;34m(name, package)\u001b[0m\n\u001b[1;32m    125\u001b[0m             \u001b[39mbreak\u001b[39;00m\n\u001b[1;32m    126\u001b[0m         level \u001b[39m+\u001b[39m\u001b[39m=\u001b[39m \u001b[39m1\u001b[39m\n\u001b[0;32m--> 127\u001b[0m \u001b[39mreturn\u001b[39;00m _bootstrap\u001b[39m.\u001b[39;49m_gcd_import(name[level:], package, level)\n",
      "File \u001b[0;32m<frozen importlib._bootstrap>:1030\u001b[0m, in \u001b[0;36m_gcd_import\u001b[0;34m(name, package, level)\u001b[0m\n",
      "File \u001b[0;32m<frozen importlib._bootstrap>:1007\u001b[0m, in \u001b[0;36m_find_and_load\u001b[0;34m(name, import_)\u001b[0m\n",
      "File \u001b[0;32m<frozen importlib._bootstrap>:984\u001b[0m, in \u001b[0;36m_find_and_load_unlocked\u001b[0;34m(name, import_)\u001b[0m\n",
      "\u001b[0;31mModuleNotFoundError\u001b[0m: No module named 'sql'"
     ]
    }
   ],
   "source": [
    "%load_ext sql\n",
    "%sql sqlite:///insurance.db"
   ]
  },
  {
   "attachments": {},
   "cell_type": "markdown",
   "metadata": {},
   "source": [
    "Questions\n",
    "1. How many female are smokers?\n",
    "2. How many male are smokers?\n",
    "3. Show the distribution of smokers and non smokers in each region \n",
    "4. Is there a region where its average charge is below the overall average charge?\n",
    "5. What can you say about people with children and those without children in terms of smoking\n",
    "6. Which region has the highest number of smokers?\n",
    "7. Which region has the lowest number of smokers?\n",
    "8. What is the average charge from female?"
   ]
  },
  {
   "cell_type": "code",
   "execution_count": 2,
   "metadata": {},
   "outputs": [
    {
     "name": "stdout",
     "output_type": "stream",
     "text": [
      " * sqlite:///insurance.db\n",
      "Done.\n"
     ]
    },
    {
     "data": {
      "text/html": [
       "<table>\n",
       "    <tr>\n",
       "        <th>age</th>\n",
       "        <th>sex</th>\n",
       "        <th>bmi</th>\n",
       "        <th>children</th>\n",
       "        <th>smoker</th>\n",
       "        <th>region</th>\n",
       "        <th>charges</th>\n",
       "    </tr>\n",
       "    <tr>\n",
       "        <td>19</td>\n",
       "        <td>female</td>\n",
       "        <td>27.9</td>\n",
       "        <td>0</td>\n",
       "        <td>yes</td>\n",
       "        <td>southwest</td>\n",
       "        <td>16884.924</td>\n",
       "    </tr>\n",
       "    <tr>\n",
       "        <td>18</td>\n",
       "        <td>male</td>\n",
       "        <td>33.77</td>\n",
       "        <td>1</td>\n",
       "        <td>no</td>\n",
       "        <td>southeast</td>\n",
       "        <td>1725.5523</td>\n",
       "    </tr>\n",
       "    <tr>\n",
       "        <td>28</td>\n",
       "        <td>male</td>\n",
       "        <td>33</td>\n",
       "        <td>3</td>\n",
       "        <td>no</td>\n",
       "        <td>southeast</td>\n",
       "        <td>4449.462</td>\n",
       "    </tr>\n",
       "    <tr>\n",
       "        <td>33</td>\n",
       "        <td>male</td>\n",
       "        <td>22.705</td>\n",
       "        <td>0</td>\n",
       "        <td>no</td>\n",
       "        <td>northwest</td>\n",
       "        <td>21984.47061</td>\n",
       "    </tr>\n",
       "    <tr>\n",
       "        <td>32</td>\n",
       "        <td>male</td>\n",
       "        <td>28.88</td>\n",
       "        <td>0</td>\n",
       "        <td>no</td>\n",
       "        <td>northwest</td>\n",
       "        <td>3866.8552</td>\n",
       "    </tr>\n",
       "</table>"
      ],
      "text/plain": [
       "[(19, 'female', 27.9, 0, 'yes', 'southwest', 16884.924),\n",
       " (18, 'male', 33.77, 1, 'no', 'southeast', 1725.5523),\n",
       " (28, 'male', 33, 3, 'no', 'southeast', 4449.462),\n",
       " (33, 'male', 22.705, 0, 'no', 'northwest', 21984.47061),\n",
       " (32, 'male', 28.88, 0, 'no', 'northwest', 3866.8552)]"
      ]
     },
     "execution_count": 2,
     "metadata": {},
     "output_type": "execute_result"
    }
   ],
   "source": [
    "# Data Preview\n",
    "%sql SELECT * FROM insurance LIMIT 5"
   ]
  },
  {
   "attachments": {},
   "cell_type": "markdown",
   "metadata": {},
   "source": [
    "### 1. How many female are smokers?"
   ]
  },
  {
   "cell_type": "code",
   "execution_count": 3,
   "metadata": {},
   "outputs": [
    {
     "name": "stdout",
     "output_type": "stream",
     "text": [
      " * sqlite:///insurance.db\n",
      "Done.\n"
     ]
    },
    {
     "data": {
      "text/html": [
       "<table>\n",
       "    <tr>\n",
       "        <th>COUNT(*)</th>\n",
       "    </tr>\n",
       "    <tr>\n",
       "        <td>115</td>\n",
       "    </tr>\n",
       "</table>"
      ],
      "text/plain": [
       "[(115,)]"
      ]
     },
     "execution_count": 3,
     "metadata": {},
     "output_type": "execute_result"
    }
   ],
   "source": [
    "%%sql \n",
    "SELECT  COUNT(*)\n",
    "FROM    insurance\n",
    "WHERE   sex = 'female' AND smoker = 'yes'  "
   ]
  },
  {
   "attachments": {},
   "cell_type": "markdown",
   "metadata": {},
   "source": [
    "### 2. How many male are smokers?"
   ]
  },
  {
   "cell_type": "code",
   "execution_count": 4,
   "metadata": {},
   "outputs": [
    {
     "name": "stdout",
     "output_type": "stream",
     "text": [
      " * sqlite:///insurance.db\n",
      "Done.\n"
     ]
    },
    {
     "data": {
      "text/html": [
       "<table>\n",
       "    <tr>\n",
       "        <th>COUNT(*)</th>\n",
       "    </tr>\n",
       "    <tr>\n",
       "        <td>159</td>\n",
       "    </tr>\n",
       "</table>"
      ],
      "text/plain": [
       "[(159,)]"
      ]
     },
     "execution_count": 4,
     "metadata": {},
     "output_type": "execute_result"
    }
   ],
   "source": [
    "%%sql \n",
    "SELECT  COUNT(*)\n",
    "FROM    insurance\n",
    "WHERE   sex = 'male' AND smoker = 'yes'  "
   ]
  },
  {
   "cell_type": "markdown",
   "metadata": {},
   "source": [
    "### 3. Show the distribution of smokers and non-smokers in each region"
   ]
  },
  {
   "cell_type": "code",
   "execution_count": 5,
   "metadata": {},
   "outputs": [
    {
     "name": "stdout",
     "output_type": "stream",
     "text": [
      " * sqlite:///insurance.db\n",
      "Done.\n"
     ]
    },
    {
     "data": {
      "text/html": [
       "<table>\n",
       "    <tr>\n",
       "        <th>region</th>\n",
       "        <th>smoker</th>\n",
       "        <th>count</th>\n",
       "    </tr>\n",
       "    <tr>\n",
       "        <td>northeast</td>\n",
       "        <td>no</td>\n",
       "        <td>257</td>\n",
       "    </tr>\n",
       "    <tr>\n",
       "        <td>northeast</td>\n",
       "        <td>yes</td>\n",
       "        <td>67</td>\n",
       "    </tr>\n",
       "    <tr>\n",
       "        <td>northwest</td>\n",
       "        <td>no</td>\n",
       "        <td>267</td>\n",
       "    </tr>\n",
       "    <tr>\n",
       "        <td>northwest</td>\n",
       "        <td>yes</td>\n",
       "        <td>58</td>\n",
       "    </tr>\n",
       "    <tr>\n",
       "        <td>southeast</td>\n",
       "        <td>no</td>\n",
       "        <td>273</td>\n",
       "    </tr>\n",
       "    <tr>\n",
       "        <td>southeast</td>\n",
       "        <td>yes</td>\n",
       "        <td>91</td>\n",
       "    </tr>\n",
       "    <tr>\n",
       "        <td>southwest</td>\n",
       "        <td>no</td>\n",
       "        <td>267</td>\n",
       "    </tr>\n",
       "    <tr>\n",
       "        <td>southwest</td>\n",
       "        <td>yes</td>\n",
       "        <td>58</td>\n",
       "    </tr>\n",
       "</table>"
      ],
      "text/plain": [
       "[('northeast', 'no', 257),\n",
       " ('northeast', 'yes', 67),\n",
       " ('northwest', 'no', 267),\n",
       " ('northwest', 'yes', 58),\n",
       " ('southeast', 'no', 273),\n",
       " ('southeast', 'yes', 91),\n",
       " ('southwest', 'no', 267),\n",
       " ('southwest', 'yes', 58)]"
      ]
     },
     "execution_count": 5,
     "metadata": {},
     "output_type": "execute_result"
    }
   ],
   "source": [
    "%%sql\n",
    "SELECT      region, smoker, COUNT(*) count\n",
    "FROM        insurance\n",
    "GROUP BY    region, smoker"
   ]
  },
  {
   "attachments": {},
   "cell_type": "markdown",
   "metadata": {},
   "source": [
    "### 4. Is there a region where its average charge is below the overall average charge?"
   ]
  },
  {
   "cell_type": "code",
   "execution_count": 11,
   "metadata": {},
   "outputs": [
    {
     "name": "stdout",
     "output_type": "stream",
     "text": [
      " * sqlite:///insurance.db\n",
      "Done.\n"
     ]
    },
    {
     "data": {
      "text/html": [
       "<table>\n",
       "    <tr>\n",
       "        <th>region</th>\n",
       "        <th>avg_charge</th>\n",
       "    </tr>\n",
       "    <tr>\n",
       "        <td>northeast</td>\n",
       "        <td>13406.3845163858</td>\n",
       "    </tr>\n",
       "    <tr>\n",
       "        <td>northwest</td>\n",
       "        <td>12417.575373969228</td>\n",
       "    </tr>\n",
       "    <tr>\n",
       "        <td>southeast</td>\n",
       "        <td>14735.411437609895</td>\n",
       "    </tr>\n",
       "    <tr>\n",
       "        <td>southwest</td>\n",
       "        <td>12346.93737729231</td>\n",
       "    </tr>\n",
       "</table>"
      ],
      "text/plain": [
       "[('northeast', 13406.3845163858),\n",
       " ('northwest', 12417.575373969228),\n",
       " ('southeast', 14735.411437609895),\n",
       " ('southwest', 12346.93737729231)]"
      ]
     },
     "execution_count": 11,
     "metadata": {},
     "output_type": "execute_result"
    }
   ],
   "source": [
    "%%sql\n",
    "SELECT region, AVG(charges) avg_charge\n",
    "FROM insurance\n",
    "GROUP BY region"
   ]
  },
  {
   "cell_type": "code",
   "execution_count": 10,
   "metadata": {},
   "outputs": [
    {
     "name": "stdout",
     "output_type": "stream",
     "text": [
      " * sqlite:///insurance.db\n",
      "Done.\n"
     ]
    },
    {
     "data": {
      "text/html": [
       "<table>\n",
       "    <tr>\n",
       "        <th>overall_avg_charges</th>\n",
       "    </tr>\n",
       "    <tr>\n",
       "        <td>13270.422265141257</td>\n",
       "    </tr>\n",
       "</table>"
      ],
      "text/plain": [
       "[(13270.422265141257,)]"
      ]
     },
     "execution_count": 10,
     "metadata": {},
     "output_type": "execute_result"
    }
   ],
   "source": [
    "%%sql\n",
    "SELECT AVG(charges) overall_avg_charges\n",
    "FROM insurance"
   ]
  },
  {
   "cell_type": "code",
   "execution_count": 14,
   "metadata": {},
   "outputs": [
    {
     "name": "stdout",
     "output_type": "stream",
     "text": [
      " * sqlite:///insurance.db\n",
      "Done.\n"
     ]
    },
    {
     "data": {
      "text/html": [
       "<table>\n",
       "    <tr>\n",
       "        <th>region</th>\n",
       "        <th>avg_charges</th>\n",
       "    </tr>\n",
       "    <tr>\n",
       "        <td>northwest</td>\n",
       "        <td>12417.575373969228</td>\n",
       "    </tr>\n",
       "    <tr>\n",
       "        <td>southwest</td>\n",
       "        <td>12346.93737729231</td>\n",
       "    </tr>\n",
       "</table>"
      ],
      "text/plain": [
       "[('northwest', 12417.575373969228), ('southwest', 12346.93737729231)]"
      ]
     },
     "execution_count": 14,
     "metadata": {},
     "output_type": "execute_result"
    }
   ],
   "source": [
    "%%sql\n",
    "WITH overall as (\n",
    "    SELECT  AVG(charges) overall_avg_charges\n",
    "    FROM    insurance\n",
    ")\n",
    "\n",
    "SELECT region, AVG(charges) avg_charges\n",
    "FROM insurance, overall\n",
    "GROUP BY region\n",
    "HAVING AVG(charges) < overall_avg_charges"
   ]
  },
  {
   "attachments": {},
   "cell_type": "markdown",
   "metadata": {},
   "source": [
    "### 5. What can you say about people with children and those without children in terms of smoking"
   ]
  },
  {
   "attachments": {},
   "cell_type": "markdown",
   "metadata": {},
   "source": [
    "### 6. Which region has the highest number of smokers?"
   ]
  },
  {
   "cell_type": "markdown",
   "metadata": {},
   "source": [
    "### 7. Which region has the lowest number of smokers?"
   ]
  },
  {
   "attachments": {},
   "cell_type": "markdown",
   "metadata": {},
   "source": [
    "### 8. What is the average charge from female?"
   ]
  },
  {
   "attachments": {},
   "cell_type": "markdown",
   "metadata": {},
   "source": [
    "### Summary"
   ]
  }
 ],
 "metadata": {
  "kernelspec": {
   "display_name": "tf-gpu",
   "language": "python",
   "name": "python3"
  },
  "language_info": {
   "codemirror_mode": {
    "name": "ipython",
    "version": 3
   },
   "file_extension": ".py",
   "mimetype": "text/x-python",
   "name": "python",
   "nbconvert_exporter": "python",
   "pygments_lexer": "ipython3",
   "version": "3.9.16"
  },
  "orig_nbformat": 4,
  "vscode": {
   "interpreter": {
    "hash": "7eee6506a63b0914adc542cc4d34fba09097ac73eb1833443939af5c078b3218"
   }
  }
 },
 "nbformat": 4,
 "nbformat_minor": 2
}
